{
 "cells": [
  {
   "cell_type": "code",
   "execution_count": 1,
   "metadata": {},
   "outputs": [
    {
     "name": "stdout",
     "output_type": "stream",
     "text": [
      "\n",
      "#######################################################################\n",
      "#                                                                     #\n",
      "#            Welcome to the interactive StochPy environment           #\n",
      "#                                                                     #\n",
      "#######################################################################\n",
      "#  StochPy: Stochastic modeling in Python                             #\n",
      "#  http://stochpy.sourceforge.net                                     #\n",
      "#  Copyright(C) T.R Maarleveld, B.G. Olivier, F.J Bruggeman 2010-2015 #\n",
      "#  DOI: 10.1371/journal.pone.0079345                                  #\n",
      "#  Email: tmd200@users.sourceforge.net                                #\n",
      "#  VU University, Amsterdam, Netherlands                              #\n",
      "#  Centrum Wiskunde Informatica, Amsterdam, Netherlands               #\n",
      "#  StochPy is distributed under the BSD licence.                      #\n",
      "#######################################################################\n",
      "\n",
      "Version 2.3.0\n",
      "Output Directory: C:\\Stochpy\n",
      "Model Directory: C:\\Stochpy\\pscmodels\n"
     ]
    }
   ],
   "source": [
    "# Module Imports\n",
    "import os\n",
    "import stochpy \n",
    "import numpy as numpy\n",
    "import random\n",
    "\n",
    "workingdir = os.getcwd()\n",
    "\n",
    "# General simulation parameters\n",
    "random.seed(80209) \n",
    "start_time = 0.0 \n",
    "end_time = 8760 #43800 is the number of hours in 5 years\n",
    "n_runs = 10  #Tells it to run the model 1000 times, essentially 1000 years"
   ]
  },
  {
   "cell_type": "code",
   "execution_count": 2,
   "metadata": {},
   "outputs": [
    {
     "data": {
      "text/plain": [
       "'C:\\\\Users\\\\ssjoh\\\\AppData\\\\Local\\\\Temp'"
      ]
     },
     "execution_count": 2,
     "metadata": {},
     "output_type": "execute_result"
    }
   ],
   "source": [
    "workingdir"
   ]
  },
  {
   "cell_type": "code",
   "execution_count": 3,
   "metadata": {},
   "outputs": [],
   "source": [
    "# Model output storage arrays\n",
    "acquisitions = numpy.empty([n_runs,1]) #The second number is the number of models being compared"
   ]
  },
  {
   "cell_type": "code",
   "execution_count": 7,
   "metadata": {},
   "outputs": [
    {
     "name": "stdout",
     "output_type": "stream",
     "text": [
      "\n",
      "\n",
      "*****\n",
      "Model parsing errors detected in input file 1dr1nurseratio.psc\n",
      "*****\n",
      "\n",
      "Input file errors\n",
      "\n",
      "Parser errors\n",
      "LexToken(NAME,'self.N_c5',1,13392)\n",
      "Input File Error\n"
     ]
    },
    {
     "ename": "SystemExit",
     "evalue": "",
     "output_type": "error",
     "traceback": [
      "An exception has occurred, use %tb to see the full traceback.\n",
      "\u001b[1;31mSystemExit\u001b[0m\n"
     ]
    }
   ],
   "source": [
    "model = stochpy.SSA()\n",
    "model.Model(model_file=\"1dr1nurseratio.psc\", dir='C:/Users/ssjoh/Documents/Lofgren/Iterations')\n",
    "model.Endtime(end_time)\n",
    "model.DoStochSim()\n",
    "#model.ShowSpecies()\n",
    "#    model.GetRegularGrid(n_samples=end_time)\n",
    "#    outcomes = model.data_stochsim_grid.species\n",
    "    #Incident = outcomes[6][0][-1]\n",
    "#    acquisitions[iteration,1] = Incident"
   ]
  },
  {
   "cell_type": "code",
   "execution_count": 5,
   "metadata": {
    "scrolled": false
   },
   "outputs": [
    {
     "name": "stdout",
     "output_type": "stream",
     "text": [
      "['N_u1', 'N_c1', 'N_u2', 'N_c2', 'N_u3', 'N_c3', 'N_u4', 'N_c4', 'N_u5', 'N_c5', 'D_u', 'D_c', 'P_u1', 'P_c1', 'Acquisition', 'P_u2', 'P_c2', 'P_u3', 'P_c3', 'P_u4', 'P_c4', 'P_u5', 'P_c5']\n"
     ]
    }
   ],
   "source": [
    "model.ShowSpecies()"
   ]
  },
  {
   "cell_type": "code",
   "execution_count": 8,
   "metadata": {},
   "outputs": [
    {
     "ename": "SystemExit",
     "evalue": "",
     "output_type": "error",
     "traceback": [
      "\u001b[1;31m---------------------------------------------------------------------------\u001b[0m",
      "\u001b[1;31mAssertionError\u001b[0m                            Traceback (most recent call last)",
      "\u001b[1;32m~\\Anaconda3\\lib\\site-packages\\stochpy\\modules\\PyscesMiniModel.py\u001b[0m in \u001b[0;36m__init__\u001b[1;34m(self, ModelFile, ModelDir, IsTauleaping, IsNRM, IsDelayed, IsSMM, IsQuiet)\u001b[0m\n\u001b[0;32m    429\u001b[0m       \u001b[1;32mtry\u001b[0m\u001b[1;33m:\u001b[0m\u001b[1;33m\u001b[0m\u001b[1;33m\u001b[0m\u001b[0m\n\u001b[1;32m--> 430\u001b[1;33m           \u001b[0mself\u001b[0m\u001b[1;33m.\u001b[0m\u001b[0mMod\u001b[0m \u001b[1;33m=\u001b[0m \u001b[0mPyscesInputFileParser\u001b[0m\u001b[1;33m(\u001b[0m\u001b[0mFile\u001b[0m \u001b[1;33m=\u001b[0m \u001b[0mModelFile\u001b[0m\u001b[1;33m,\u001b[0m \u001b[0mdir\u001b[0m \u001b[1;33m=\u001b[0m \u001b[0mModelDir\u001b[0m\u001b[1;33m,\u001b[0m\u001b[0mquiet\u001b[0m\u001b[1;33m=\u001b[0m\u001b[0mIsQuiet\u001b[0m\u001b[1;33m)\u001b[0m\u001b[1;33m\u001b[0m\u001b[1;33m\u001b[0m\u001b[0m\n\u001b[0m\u001b[0;32m    431\u001b[0m       \u001b[1;32mexcept\u001b[0m \u001b[0mException\u001b[0m \u001b[1;32mas\u001b[0m \u001b[0mer\u001b[0m\u001b[1;33m:\u001b[0m\u001b[1;33m\u001b[0m\u001b[1;33m\u001b[0m\u001b[0m\n",
      "\u001b[1;32m~\\Anaconda3\\lib\\site-packages\\stochpy\\modules\\PyscesMiniModel.py\u001b[0m in \u001b[0;36m__init__\u001b[1;34m(self, File, dir, output_dir, quiet)\u001b[0m\n\u001b[0;32m    257\u001b[0m         \u001b[0mself\u001b[0m\u001b[1;33m.\u001b[0m\u001b[0m__settings__\u001b[0m \u001b[1;33m=\u001b[0m \u001b[1;33m{\u001b[0m\u001b[1;33m}\u001b[0m\u001b[1;33m\u001b[0m\u001b[1;33m\u001b[0m\u001b[0m\n\u001b[1;32m--> 258\u001b[1;33m         \u001b[0mself\u001b[0m\u001b[1;33m.\u001b[0m\u001b[0mInitialiseInputFile\u001b[0m\u001b[1;33m(\u001b[0m\u001b[0mquiet\u001b[0m\u001b[1;33m)\u001b[0m\u001b[1;33m\u001b[0m\u001b[1;33m\u001b[0m\u001b[0m\n\u001b[0m\u001b[0;32m    259\u001b[0m         \u001b[0mself\u001b[0m\u001b[1;33m.\u001b[0m\u001b[0mInitialiseEvents\u001b[0m\u001b[1;33m(\u001b[0m\u001b[0mquiet\u001b[0m\u001b[1;33m)\u001b[0m\u001b[1;33m\u001b[0m\u001b[1;33m\u001b[0m\u001b[0m\n",
      "\u001b[1;32m~\\Anaconda3\\lib\\site-packages\\stochpy\\modules\\PyscesMiniModel.py\u001b[0m in \u001b[0;36mInitialiseInputFile\u001b[1;34m(self, quiet)\u001b[0m\n\u001b[0;32m    394\u001b[0m                     \u001b[0mprint\u001b[0m\u001b[1;33m(\u001b[0m\u001b[0merror\u001b[0m\u001b[1;33m)\u001b[0m\u001b[1;33m\u001b[0m\u001b[1;33m\u001b[0m\u001b[0m\n\u001b[1;32m--> 395\u001b[1;33m             \u001b[1;32massert\u001b[0m \u001b[0mpscParser\u001b[0m\u001b[1;33m.\u001b[0m\u001b[0mParseOK\u001b[0m \u001b[1;33m==\u001b[0m \u001b[1;36m1\u001b[0m\u001b[1;33m,\u001b[0m \u001b[1;34m'Input File Error'\u001b[0m\u001b[1;33m\u001b[0m\u001b[1;33m\u001b[0m\u001b[0m\n\u001b[0m\u001b[0;32m    396\u001b[0m \u001b[1;33m\u001b[0m\u001b[0m\n",
      "\u001b[1;31mAssertionError\u001b[0m: Input File Error",
      "\nDuring handling of the above exception, another exception occurred:\n",
      "\u001b[1;31mSystemExit\u001b[0m                                Traceback (most recent call last)",
      "\u001b[1;32m<ipython-input-7-c31b724a0f32>\u001b[0m in \u001b[0;36m<module>\u001b[1;34m\u001b[0m\n\u001b[0;32m      1\u001b[0m \u001b[0mmodel\u001b[0m \u001b[1;33m=\u001b[0m \u001b[0mstochpy\u001b[0m\u001b[1;33m.\u001b[0m\u001b[0mSSA\u001b[0m\u001b[1;33m(\u001b[0m\u001b[1;33m)\u001b[0m\u001b[1;33m\u001b[0m\u001b[1;33m\u001b[0m\u001b[0m\n\u001b[1;32m----> 2\u001b[1;33m \u001b[0mmodel\u001b[0m\u001b[1;33m.\u001b[0m\u001b[0mModel\u001b[0m\u001b[1;33m(\u001b[0m\u001b[0mmodel_file\u001b[0m\u001b[1;33m=\u001b[0m\u001b[1;34m\"1dr1nurseratio.psc\"\u001b[0m\u001b[1;33m,\u001b[0m \u001b[0mdir\u001b[0m\u001b[1;33m=\u001b[0m\u001b[1;34m'C:/Users/ssjoh/Documents/Lofgren/Iterations'\u001b[0m\u001b[1;33m)\u001b[0m\u001b[1;33m\u001b[0m\u001b[1;33m\u001b[0m\u001b[0m\n\u001b[0m\u001b[0;32m      3\u001b[0m \u001b[0mmodel\u001b[0m\u001b[1;33m.\u001b[0m\u001b[0mEndtime\u001b[0m\u001b[1;33m(\u001b[0m\u001b[0mend_time\u001b[0m\u001b[1;33m)\u001b[0m\u001b[1;33m\u001b[0m\u001b[1;33m\u001b[0m\u001b[0m\n\u001b[0;32m      4\u001b[0m \u001b[0mmodel\u001b[0m\u001b[1;33m.\u001b[0m\u001b[0mDoStochSim\u001b[0m\u001b[1;33m(\u001b[0m\u001b[1;33m)\u001b[0m\u001b[1;33m\u001b[0m\u001b[1;33m\u001b[0m\u001b[0m\n\u001b[0;32m      5\u001b[0m \u001b[1;31m#model.ShowSpecies()\u001b[0m\u001b[1;33m\u001b[0m\u001b[1;33m\u001b[0m\u001b[1;33m\u001b[0m\u001b[0m\n",
      "\u001b[1;32m~\\Anaconda3\\lib\\site-packages\\stochpy\\modules\\StochSim.py\u001b[0m in \u001b[0;36mModel\u001b[1;34m(self, model_file, dir)\u001b[0m\n\u001b[0;32m    332\u001b[0m         \u001b[1;32mif\u001b[0m \u001b[0mdir\u001b[0m \u001b[1;33m!=\u001b[0m \u001b[1;32mNone\u001b[0m\u001b[1;33m:\u001b[0m\u001b[1;33m\u001b[0m\u001b[1;33m\u001b[0m\u001b[0m\n\u001b[0;32m    333\u001b[0m             \u001b[0mself\u001b[0m\u001b[1;33m.\u001b[0m\u001b[0mmodel_dir\u001b[0m \u001b[1;33m=\u001b[0m \u001b[0mdir\u001b[0m\u001b[1;33m\u001b[0m\u001b[1;33m\u001b[0m\u001b[0m\n\u001b[1;32m--> 334\u001b[1;33m         \u001b[0mself\u001b[0m\u001b[1;33m.\u001b[0m\u001b[0mReload\u001b[0m\u001b[1;33m(\u001b[0m\u001b[1;33m)\u001b[0m\u001b[1;33m\u001b[0m\u001b[1;33m\u001b[0m\u001b[0m\n\u001b[0m\u001b[0;32m    335\u001b[0m \u001b[1;33m\u001b[0m\u001b[0m\n\u001b[0;32m    336\u001b[0m \u001b[1;33m\u001b[0m\u001b[0m\n",
      "\u001b[1;32m~\\Anaconda3\\lib\\site-packages\\stochpy\\modules\\StochSim.py\u001b[0m in \u001b[0;36mReload\u001b[1;34m(self)\u001b[0m\n\u001b[0;32m    293\u001b[0m     \u001b[1;32mdef\u001b[0m \u001b[0mReload\u001b[0m\u001b[1;33m(\u001b[0m\u001b[0mself\u001b[0m\u001b[1;33m)\u001b[0m\u001b[1;33m:\u001b[0m\u001b[1;33m\u001b[0m\u001b[1;33m\u001b[0m\u001b[0m\n\u001b[0;32m    294\u001b[0m         \u001b[1;34m\"\"\" Reload the entire model again. Useful if the model file has changed \"\"\"\u001b[0m\u001b[1;33m\u001b[0m\u001b[1;33m\u001b[0m\u001b[0m\n\u001b[1;32m--> 295\u001b[1;33m         \u001b[0mself\u001b[0m\u001b[1;33m.\u001b[0m\u001b[0mSSA\u001b[0m\u001b[1;33m.\u001b[0m\u001b[0mParse\u001b[0m\u001b[1;33m(\u001b[0m\u001b[0mself\u001b[0m\u001b[1;33m.\u001b[0m\u001b[0mmodel_file\u001b[0m\u001b[1;33m,\u001b[0m\u001b[0mself\u001b[0m\u001b[1;33m.\u001b[0m\u001b[0mmodel_dir\u001b[0m\u001b[1;33m,\u001b[0m\u001b[0mIsTauleaping\u001b[0m \u001b[1;33m=\u001b[0m \u001b[0mself\u001b[0m\u001b[1;33m.\u001b[0m\u001b[0m_IsTauleaping\u001b[0m\u001b[1;33m,\u001b[0m \u001b[0mIsNRM\u001b[0m \u001b[1;33m=\u001b[0m \u001b[0mself\u001b[0m\u001b[1;33m.\u001b[0m\u001b[0m_IsNRM\u001b[0m\u001b[1;33m,\u001b[0m\u001b[0mIsDelayed\u001b[0m \u001b[1;33m=\u001b[0m \u001b[0mself\u001b[0m\u001b[1;33m.\u001b[0m\u001b[0m_IsDelayedMethod\u001b[0m\u001b[1;33m,\u001b[0m \u001b[0mIsSMM\u001b[0m \u001b[1;33m=\u001b[0m \u001b[0mself\u001b[0m\u001b[1;33m.\u001b[0m\u001b[0m_IsSingleMoleculeMethod\u001b[0m\u001b[1;33m,\u001b[0m\u001b[0mIsQuiet\u001b[0m\u001b[1;33m=\u001b[0m\u001b[0mself\u001b[0m\u001b[1;33m.\u001b[0m\u001b[0m_IsQuiet\u001b[0m\u001b[1;33m)\u001b[0m\u001b[1;33m\u001b[0m\u001b[1;33m\u001b[0m\u001b[0m\n\u001b[0m\u001b[0;32m    296\u001b[0m         \u001b[0mself\u001b[0m\u001b[1;33m.\u001b[0m\u001b[0m_IsSimulationDone\u001b[0m \u001b[1;33m=\u001b[0m \u001b[1;32mFalse\u001b[0m\u001b[1;33m\u001b[0m\u001b[1;33m\u001b[0m\u001b[0m\n\u001b[0;32m    297\u001b[0m         \u001b[0mself\u001b[0m\u001b[1;33m.\u001b[0m\u001b[0mHAS_AVERAGE\u001b[0m \u001b[1;33m=\u001b[0m \u001b[1;32mFalse\u001b[0m\u001b[1;33m\u001b[0m\u001b[1;33m\u001b[0m\u001b[0m\n",
      "\u001b[1;32m~\\Anaconda3\\lib\\site-packages\\stochpy\\implementations\\StochPyTools.py\u001b[0m in \u001b[0;36mParse\u001b[1;34m(self, model_file, model_dir, IsTauleaping, IsNRM, IsDelayed, IsSMM, IsQuiet)\u001b[0m\n\u001b[0;32m     40\u001b[0m         \"\"\"        \n\u001b[0;32m     41\u001b[0m         \u001b[1;32mtry\u001b[0m\u001b[1;33m:\u001b[0m\u001b[1;33m\u001b[0m\u001b[1;33m\u001b[0m\u001b[0m\n\u001b[1;32m---> 42\u001b[1;33m             \u001b[0mself\u001b[0m\u001b[1;33m.\u001b[0m\u001b[0mparse\u001b[0m \u001b[1;33m=\u001b[0m \u001b[0mPySCeS_Connector\u001b[0m\u001b[1;33m(\u001b[0m\u001b[0mmodel_file\u001b[0m\u001b[1;33m,\u001b[0m\u001b[0mmodel_dir\u001b[0m\u001b[1;33m,\u001b[0m\u001b[0mIsTauleaping\u001b[0m \u001b[1;33m=\u001b[0m \u001b[0mIsTauleaping\u001b[0m\u001b[1;33m,\u001b[0m \u001b[0mIsNRM\u001b[0m \u001b[1;33m=\u001b[0m \u001b[0mIsNRM\u001b[0m\u001b[1;33m,\u001b[0m\u001b[0mIsDelayed\u001b[0m \u001b[1;33m=\u001b[0m \u001b[0mIsDelayed\u001b[0m\u001b[1;33m,\u001b[0m\u001b[0mIsSMM\u001b[0m \u001b[1;33m=\u001b[0m \u001b[0mIsSMM\u001b[0m\u001b[1;33m,\u001b[0m\u001b[0mIsQuiet\u001b[0m\u001b[1;33m=\u001b[0m\u001b[0mIsQuiet\u001b[0m\u001b[1;33m)\u001b[0m  \u001b[1;31m# Parse model\u001b[0m\u001b[1;33m\u001b[0m\u001b[1;33m\u001b[0m\u001b[0m\n\u001b[0m\u001b[0;32m     43\u001b[0m             \u001b[1;32mif\u001b[0m \u001b[0mself\u001b[0m\u001b[1;33m.\u001b[0m\u001b[0mparse\u001b[0m\u001b[1;33m.\u001b[0m\u001b[0m_IsConverted\u001b[0m\u001b[1;33m:\u001b[0m\u001b[1;33m\u001b[0m\u001b[1;33m\u001b[0m\u001b[0m\n\u001b[0;32m     44\u001b[0m                 \u001b[0mmodel_file\u001b[0m \u001b[1;33m+=\u001b[0m \u001b[1;34m'.psc'\u001b[0m\u001b[1;33m\u001b[0m\u001b[1;33m\u001b[0m\u001b[0m\n",
      "\u001b[1;32m~\\Anaconda3\\lib\\site-packages\\stochpy\\modules\\PyscesMiniModel.py\u001b[0m in \u001b[0;36m__init__\u001b[1;34m(self, ModelFile, ModelDir, IsTauleaping, IsNRM, IsDelayed, IsSMM, IsQuiet)\u001b[0m\n\u001b[0;32m    431\u001b[0m       \u001b[1;32mexcept\u001b[0m \u001b[0mException\u001b[0m \u001b[1;32mas\u001b[0m \u001b[0mer\u001b[0m\u001b[1;33m:\u001b[0m\u001b[1;33m\u001b[0m\u001b[1;33m\u001b[0m\u001b[0m\n\u001b[0;32m    432\u001b[0m           \u001b[0mprint\u001b[0m\u001b[1;33m(\u001b[0m\u001b[0mer\u001b[0m\u001b[1;33m)\u001b[0m\u001b[1;33m\u001b[0m\u001b[1;33m\u001b[0m\u001b[0m\n\u001b[1;32m--> 433\u001b[1;33m           \u001b[0msys\u001b[0m\u001b[1;33m.\u001b[0m\u001b[0mexit\u001b[0m\u001b[1;33m(\u001b[0m\u001b[1;33m)\u001b[0m\u001b[1;33m\u001b[0m\u001b[1;33m\u001b[0m\u001b[0m\n\u001b[0m\u001b[0;32m    434\u001b[0m \u001b[1;33m\u001b[0m\u001b[0m\n\u001b[0;32m    435\u001b[0m       \u001b[0mself\u001b[0m\u001b[1;33m.\u001b[0m\u001b[0mBuildN\u001b[0m\u001b[1;33m(\u001b[0m\u001b[1;33m)\u001b[0m\u001b[1;33m\u001b[0m\u001b[1;33m\u001b[0m\u001b[0m\n",
      "\u001b[1;31mSystemExit\u001b[0m: "
     ]
    }
   ],
   "source": [
    "%tb"
   ]
  },
  {
   "cell_type": "code",
   "execution_count": null,
   "metadata": {},
   "outputs": [],
   "source": []
  }
 ],
 "metadata": {
  "kernelspec": {
   "display_name": "Python 3",
   "language": "python",
   "name": "python3"
  },
  "language_info": {
   "codemirror_mode": {
    "name": "ipython",
    "version": 3
   },
   "file_extension": ".py",
   "mimetype": "text/x-python",
   "name": "python",
   "nbconvert_exporter": "python",
   "pygments_lexer": "ipython3",
   "version": "3.7.3"
  }
 },
 "nbformat": 4,
 "nbformat_minor": 2
}
